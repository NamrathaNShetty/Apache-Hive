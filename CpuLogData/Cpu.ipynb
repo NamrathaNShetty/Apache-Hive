{
 "cells": [
  {
   "cell_type": "code",
   "execution_count": null,
   "metadata": {},
   "outputs": [],
   "source": [
    "from pyhive import hive\n",
    "import pandas as pd\n",
    "import seaborn as sns\n",
    "import matplotlib.pyplot as plt\n",
    "import os\n",
    "from dotenv import load_dotenv\n",
    "load_dotenv(\".env\")"
   ]
  },
  {
   "cell_type": "code",
   "execution_count": null,
   "metadata": {},
   "outputs": [],
   "source": [
    "host_name = os.getenv(\"HOST_NAME\")\n",
    "port = os.getenv(\"PORT\")\n",
    "user = os.getenv(\"USER\")"
   ]
  },
  {
   "cell_type": "markdown",
   "metadata": {},
   "source": [
    "Create Database LogCpu"
   ]
  },
  {
   "cell_type": "code",
   "execution_count": null,
   "metadata": {},
   "outputs": [],
   "source": [
    "try:   \n",
    "    conn = hive.Connection(host=host_name, port=port,username=user)\n",
    "    cur = conn.cursor()\n",
    "    cur.execute(\"CREATE DATABASE {}\".format(\"Log\"))\n",
    "    print(\"Database created successfully\")\n",
    "\n",
    "except Exception as e:\n",
    "    print(e)    "
   ]
  },
  {
   "cell_type": "markdown",
   "metadata": {},
   "source": [
    "Create table and load data into log_data"
   ]
  },
  {
   "cell_type": "code",
   "execution_count": null,
   "metadata": {},
   "outputs": [],
   "source": [
    "try:   \n",
    "    conn = hive.Connection(host=host_name, port=port, username=user,database=\"Log\")\n",
    "    cur = conn.cursor()\n",
    "    cur.execute(\"create table log_data(DateTime date,c1 string,c2 string,c3 string,c4 string,c5 string,c6 string,c7 string,c8 string,c9 string,c10 string,c11 string,c12 string,c13 string,c14 string,c15 string,c16 string,c17 string,c18 string,c19 string,c20 string,c21 string,c22 string,c23 string,c24 string,c25 string,c26 string,c27 string,c28 string,c29 string,c30 string,c31 string,c32 string,c33 string,c34 string,c35 string,c36 string,c37 string,c38 string,c39 string,user_name string,keyboard string,mouse string,c44 string,c45 string) row format delimited fields terminated by ',' stored as textfile location 'hdfs://localhost:9000/CpuLogData/CpuLogData' tblproperties('skip.header.line.count'='1')\")\n",
    "    print(\"Table has been created successfully\")\n",
    "\n",
    "except Exception as e:\n",
    "    print(e)    "
   ]
  },
  {
   "cell_type": "markdown",
   "metadata": {},
   "source": [
    "Users and their record counts"
   ]
  },
  {
   "cell_type": "code",
   "execution_count": null,
   "metadata": {},
   "outputs": [],
   "source": [
    "try:   \n",
    "    conn = hive.Connection(host=host_name, port=port, username=user,database=\"Log\")\n",
    "    user_record_count=pd.read_sql(\"select user_name,count(user_name) from log_data group by user_name\", conn)\n",
    "    print(user_record_count)\n",
    "\n",
    "except Exception as e:\n",
    "    print(e)    "
   ]
  },
  {
   "cell_type": "code",
   "execution_count": null,
   "metadata": {},
   "outputs": [],
   "source": [
    "try:   \n",
    "    conn = hive.Connection(host=host_name, port=port, username=user,database=\"Log\")\n",
    "    user_record_count=pd.read_sql(\"select user_name,count('') from log_data group by user_name\", conn)\n",
    "    print(user_record_count)\n",
    "\n",
    "except Exception as e:\n",
    "    print(e)    "
   ]
  },
  {
   "cell_type": "code",
   "execution_count": null,
   "metadata": {},
   "outputs": [],
   "source": [
    "import matplotlib.pyplot as plt\n",
    "try:\n",
    "    df = dfs.toPandas()\n",
    "    df.plot(kind = 'bar', x='user_name', y='count')\n",
    "    df.plot(kind = 'pie', x='user_name', y='count')\n",
    "    plt.show()\n",
    "except Exception as e:\n",
    "    print(e)"
   ]
  },
  {
   "cell_type": "markdown",
   "metadata": {},
   "source": [
    "Create connection with hive and find active users users"
   ]
  },
  {
   "cell_type": "code",
   "execution_count": null,
   "metadata": {},
   "outputs": [],
   "source": [
    "try:\n",
    "    conn = hive.Connection(host=host_name,port=port,database='Log')\n",
    "    active_user_count = pd.read_sql(\"select user_name ,count(user_name) as total from log_data where keyboard !=0 or mouse!=0 group by user_name\",conn)\n",
    "    print(active_user_count)\n",
    "except Exception as e:\n",
    "    print(e)"
   ]
  },
  {
   "cell_type": "markdown",
   "metadata": {},
   "source": [
    "Finding users with highest work hours"
   ]
  },
  {
   "cell_type": "code",
   "execution_count": null,
   "metadata": {},
   "outputs": [],
   "source": [
    "highest_work_hrs=pd.read_sql(\"SELECT user_name,from_unixtime(round((((count('user_name')*5)*60)/6),2),'HH:mm') as work_hours FROM log_data WHERE keyboard !=0 OR mouse !=0 GROUP BY user_name ORDER BY work_hours desc\",conn)\n",
    "print(highest_work_hrs)"
   ]
  },
  {
   "cell_type": "code",
   "execution_count": null,
   "metadata": {},
   "outputs": [],
   "source": [
    "import seaborn as sns\n",
    "from matplotlib import pyplot as plt\n",
    "\n",
    "df = dfs4.toPandas()\n",
    "plt.figure(figsize = (8,7))\n",
    "sns.barplot(x = 'work_hrs',y='count',data = df,hue='user_name')\n",
    "plt.title(\"Avg hours by person\")\n",
    "plt.ylim(0,500)\n",
    "plt.show()"
   ]
  },
  {
   "cell_type": "markdown",
   "metadata": {},
   "source": [
    "Finding users with lowest work hours"
   ]
  },
  {
   "cell_type": "code",
   "execution_count": null,
   "metadata": {},
   "outputs": [],
   "source": [
    "lowest_work_hrs=pd.read_sql(\"SELECT user_name,from_unixtime(round((((count(user_name)*5)*60)/6),2),'HH:mm') active_hours FROM log_data WHERE keyboard !=0 OR mouse !=0 GROUP BY user_name ORDER BY active_hours asc\",conn)\n",
    "print(lowest_work_hrs)"
   ]
  },
  {
   "cell_type": "code",
   "execution_count": null,
   "metadata": {},
   "outputs": [],
   "source": [
    "#Create Pandas dataframe\n",
    "df=dfs4.toPandas()\n",
    "#Columns we want to plot\n",
    "username= df['user_name']\n",
    "hrs=df['active_hours']\n",
    "\n",
    "colors =['Red', 'Blue', 'Green','Grey','Brown','Red','Blue','Black']\n",
    "explode = (0.1, 0, 0, 0, 0, 0,0,0)\n",
    "plt.pie(hrs, labels=username, explode=explode, colors=colors,autopct='%1.1f%%', shadow=True)\n",
    "plt.title(\"Avg hours by person\")\n",
    "plt.show()"
   ]
  },
  {
   "cell_type": "markdown",
   "metadata": {},
   "source": [
    "Finding users with idle hours"
   ]
  },
  {
   "cell_type": "code",
   "execution_count": null,
   "metadata": {},
   "outputs": [],
   "source": [
    "idle_count = pd.read_sql(\"select user_name ,count(user_name) as total from logs where keyboard=0 and mouse=0 group by user_name\",conn)\n",
    "print(idle_count)"
   ]
  },
  {
   "cell_type": "markdown",
   "metadata": {},
   "source": [
    "Finding users with highest number of idle hours"
   ]
  },
  {
   "cell_type": "code",
   "execution_count": null,
   "metadata": {},
   "outputs": [],
   "source": [
    "highest_idle_time = pd.read_sql(\"SELECT user_name,from_unixtime(round((((count(user_name)*5)*60)/6),2),'HH:mm') idle_hours FROM log_data WHERE keyboard==0 AND mouse==0 GROUP BY user_name ORDER BY idle_hours desc\",conn)\n",
    "print(highest_idle_time)"
   ]
  },
  {
   "cell_type": "code",
   "execution_count": null,
   "metadata": {},
   "outputs": [],
   "source": [
    "#import seaborn as sns\n",
    "from matplotlib import pyplot as plt\n",
    "\n",
    "df = dfs4.toPandas()\n",
    "plt.figure(figsize = (8,7))\n",
    "sns.barplot(x = 'idle_Hrs',y='count',data = highest_idle_time,hue='user_name')\n",
    "plt.title(\"idle hours and count by person\")\n",
    "plt.ylim(0,200)\n",
    "plt.show("
   ]
  },
  {
   "cell_type": "code",
   "execution_count": null,
   "metadata": {},
   "outputs": [],
   "source": []
  },
  {
   "cell_type": "code",
   "execution_count": null,
   "metadata": {},
   "outputs": [],
   "source": []
  }
 ],
 "metadata": {
  "interpreter": {
   "hash": "916dbcbb3f70747c44a77c7bcd40155683ae19c65e1c03b4aa3499c5328201f1"
  },
  "kernelspec": {
   "display_name": "Python 3.8.10 64-bit",
   "name": "python3"
  },
  "language_info": {
   "codemirror_mode": {
    "name": "ipython",
    "version": 3
   },
   "file_extension": ".py",
   "mimetype": "text/x-python",
   "name": "python",
   "nbconvert_exporter": "python",
   "pygments_lexer": "ipython3",
   "version": "3.8.10"
  },
  "orig_nbformat": 4
 },
 "nbformat": 4,
 "nbformat_minor": 2
}

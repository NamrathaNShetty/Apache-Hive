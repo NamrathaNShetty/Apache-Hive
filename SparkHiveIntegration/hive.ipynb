{
 "cells": [
  {
   "cell_type": "code",
   "execution_count": null,
   "metadata": {},
   "outputs": [],
   "source": [
    "from pyspark.sql import SparkSession\n",
    "from Logger import logger\n",
    "try:\n",
    "    appName = \"Spark hive operations\"\n",
    "    master = \"local\"\n",
    "    spark = SparkSession.builder.master(master).appName(appName).enableHiveSupport().getOrCreate()\n",
    "except Exception as e:\n",
    "    logger.error(e)"
   ]
  },
  {
   "cell_type": "code",
   "execution_count": null,
   "metadata": {},
   "outputs": [],
   "source": [
    "df = spark.read.csv(\"hdfs://localhost:9000/CpuLogData/CpuLogData/*.csv\",header=True)\n",
    "df2 = df.select(\"user_name\",\"DateTime\",\"keyboard\",\"mouse\")\n",
    "df2.createOrReplaceTempView('myview')"
   ]
  },
  {
   "cell_type": "code",
   "execution_count": null,
   "metadata": {},
   "outputs": [],
   "source": [
    "df2.show()"
   ]
  },
  {
   "cell_type": "code",
   "execution_count": null,
   "metadata": {},
   "outputs": [],
   "source": [
    "df2.createOrReplaceTempView(\"data\")"
   ]
  },
  {
   "cell_type": "code",
   "execution_count": null,
   "metadata": {},
   "outputs": [],
   "source": [
    "# df2.write.mode(\"overwrite\").saveAsTable(\"New.cpu_logs\")\n",
    "# dfs = spark.sql(\"use New\")\n",
    "# dfs1 = spark.sql(\"show tables\")\n",
    "# dfs1.show()\n",
    "# spark.sql(\"create table namratha.test as select * from myview\")\n",
    "# dfs2 = spark.sql(\"select *from cpu_logs\")\n",
    "# dfs2.show()"
   ]
  },
  {
   "cell_type": "code",
   "execution_count": null,
   "metadata": {},
   "outputs": [],
   "source": [
    "try:\n",
    "    spark.sql(\"create table default.log_data as select * from data\")\n",
    "except Exception as e:\n",
    "    logger.info(e)"
   ]
  },
  {
   "cell_type": "code",
   "execution_count": null,
   "metadata": {},
   "outputs": [],
   "source": [
    "from pyhive import hive\n",
    "import pandas as pd"
   ]
  },
  {
   "cell_type": "code",
   "execution_count": null,
   "metadata": {},
   "outputs": [],
   "source": [
    "conn = hive.Connection(host='localhost',port=10000,database='default')\n",
    "cur = conn.cursor()"
   ]
  },
  {
   "cell_type": "code",
   "execution_count": null,
   "metadata": {},
   "outputs": [],
   "source": [
    "user_count=pd.read_sql(\"select user_name, count(user_name) as total_count from log_data group by user_name\",conn)\n",
    "print(user_count)"
   ]
  },
  {
   "cell_type": "code",
   "execution_count": null,
   "metadata": {},
   "outputs": [],
   "source": [
    "active_user_count  = pd.read_sql(\"select user_name ,count(user_name) as total from log_data where keyboard !=0 or mouse!=0 group by user_name\",conn)\n",
    "print(active_user_count)"
   ]
  },
  {
   "cell_type": "code",
   "execution_count": null,
   "metadata": {},
   "outputs": [],
   "source": [
    "highest_work_hrs=pd.read_sql(\"SELECT user_name,from_unixtime(round((((count('user_name')*5)*60)/6),2),'HH:mm') as work_hours FROM log_data WHERE keyboard !=0 OR mouse !=0 GROUP BY user_name ORDER BY work_hours desc\",conn)\n",
    "print(highest_work_hrs)"
   ]
  },
  {
   "cell_type": "code",
   "execution_count": null,
   "metadata": {},
   "outputs": [],
   "source": [
    "lowest_work_hrs=pd.read_sql(\"SELECT user_name,from_unixtime(round((((count(user_name)*5)*60)/6),2),'HH:mm') active_hours FROM log_data WHERE keyboard !=0 OR mouse !=0 GROUP BY user_name ORDER BY active_hours asc\",conn)\n",
    "print(lowest_work_hrs)"
   ]
  },
  {
   "cell_type": "code",
   "execution_count": null,
   "metadata": {},
   "outputs": [],
   "source": [
    "idle_count = pd.read_sql(\"select user_name ,count(user_name) as total from logs where keyboard=0 and mouse=0 group by user_name\",conn)\n",
    "print(idle_count)"
   ]
  },
  {
   "cell_type": "code",
   "execution_count": null,
   "metadata": {},
   "outputs": [],
   "source": [
    "highest_idle_time = pd.read_sql(\"SELECT user_name,from_unixtime(round((((count(user_name)*5)*60)/6),2),'HH:mm') idle_hours FROM log_data WHERE keyboard==0 AND mouse==0 GROUP BY user_name ORDER BY idle_hours desc\",conn)\n",
    "print(highest_idle_time)"
   ]
  }
 ],
 "metadata": {
  "interpreter": {
   "hash": "916dbcbb3f70747c44a77c7bcd40155683ae19c65e1c03b4aa3499c5328201f1"
  },
  "kernelspec": {
   "display_name": "Python 3.8.10 64-bit",
   "name": "python3"
  },
  "language_info": {
   "codemirror_mode": {
    "name": "ipython",
    "version": 3
   },
   "file_extension": ".py",
   "mimetype": "text/x-python",
   "name": "python",
   "nbconvert_exporter": "python",
   "pygments_lexer": "ipython3",
   "version": "3.8.10"
  },
  "orig_nbformat": 4
 },
 "nbformat": 4,
 "nbformat_minor": 2
}
